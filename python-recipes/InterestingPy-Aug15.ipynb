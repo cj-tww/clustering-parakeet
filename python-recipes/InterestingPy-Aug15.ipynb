{
 "cells": [
  {
   "cell_type": "markdown",
   "metadata": {},
   "source": [
    "## Interesting Python  \n",
    "Random interesting pythong tidbits I found on the Internet."
   ]
  },
  {
   "cell_type": "markdown",
   "metadata": {},
   "source": [
    "Get memory address of a variable. Python optimizes memory by assigning variables to the same memory location of they refer to the same value. "
   ]
  },
  {
   "cell_type": "code",
   "execution_count": 3,
   "metadata": {},
   "outputs": [
    {
     "name": "stdout",
     "output_type": "stream",
     "text": [
      "4372325856\n",
      "4372325824\n",
      "4372325856\n"
     ]
    }
   ],
   "source": [
    "x = 3\n",
    "y = 2\n",
    "print(id(x))\n",
    "print(id(y))\n",
    "\n",
    "y = 3\n",
    "print(id(y))"
   ]
  },
  {
   "cell_type": "markdown",
   "metadata": {},
   "source": [
    "Shorthand to iterate over lists, stepwise.  \n",
    "[start : stop: step_size]  \n",
    "[start : stop]"
   ]
  },
  {
   "cell_type": "code",
   "execution_count": 9,
   "metadata": {},
   "outputs": [
    {
     "name": "stdout",
     "output_type": "stream",
     "text": [
      "[1, 3, 5]\n",
      "[0, 2, 4, 6, 8]\n",
      "[1, 4, 7]\n"
     ]
    }
   ],
   "source": [
    "a = [0, 1, 2, 3, 4, 5, 6, 7, 8, 9]\n",
    "print(a[1:7:2])\n",
    "print(a[::2])\n",
    "print(a[1::3])"
   ]
  },
  {
   "cell_type": "markdown",
   "metadata": {},
   "source": [
    "List comprehension for matrix transpose."
   ]
  },
  {
   "cell_type": "code",
   "execution_count": 12,
   "metadata": {},
   "outputs": [
    {
     "name": "stdout",
     "output_type": "stream",
     "text": [
      "a:  [[2, 4, 5], [6, 8, 9]]\n",
      "a_transpose:  [[2, 6], [4, 8], [5, 9]]\n"
     ]
    }
   ],
   "source": [
    "a = [[2, 4, 5], [6, 8, 9]]\n",
    "print('a: ', a)\n",
    "a_transpose = [[row[i] for row in a] for i in range(len(a[0]))]\n",
    "print('a_transpose: ', a_transpose)"
   ]
  }
 ],
 "metadata": {
  "kernelspec": {
   "display_name": "Python 3",
   "language": "python",
   "name": "python3"
  },
  "language_info": {
   "codemirror_mode": {
    "name": "ipython",
    "version": 3
   },
   "file_extension": ".py",
   "mimetype": "text/x-python",
   "name": "python",
   "nbconvert_exporter": "python",
   "pygments_lexer": "ipython3",
   "version": "3.7.3"
  }
 },
 "nbformat": 4,
 "nbformat_minor": 2
}
